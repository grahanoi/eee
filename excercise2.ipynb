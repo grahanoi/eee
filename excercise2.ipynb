{
 "cells": [
  {
   "cell_type": "code",
   "execution_count": 1,
   "metadata": {},
   "outputs": [],
   "source": [
    "import requests\n",
    "import pandas as pd"
   ]
  },
  {
   "cell_type": "markdown",
   "metadata": {},
   "source": [
    "Try to creat a connetion to the API and get data"
   ]
  },
  {
   "cell_type": "code",
   "execution_count": null,
   "metadata": {},
   "outputs": [
    {
     "name": "stdout",
     "output_type": "stream",
     "text": [
      "Error: 404\n"
     ]
    }
   ],
   "source": [
    "url ='https://alplakes-api.eawag.ch/remotesensing/products/zuerich/sentinel2/turbidity'\n",
    "headers = {'accept': '*/*'}\n",
    "\n",
    "response = requests.get(url, headers=headers)\n",
    "\n",
    "if response.status_code == 200:\n",
    "    data = response.json()  # Convert response to JSON\n",
    "    print(data)\n",
    "else:\n",
    "    print(f\"Error: {response.status_code}\")\n"
   ]
  },
  {
   "cell_type": "markdown",
   "metadata": {},
   "source": [
    "Save the date in a Dataframe"
   ]
  },
  {
   "cell_type": "code",
   "execution_count": 25,
   "metadata": {},
   "outputs": [
    {
     "name": "stdout",
     "output_type": "stream",
     "text": [
      "{'walensee': {'collection': ['ST'], 'sentinel2': ['SPM_Nechad2016_665', 'TUR_Nechad2016_665', 'Z490', 'forel_ule', 'p3qaa_zSD', 'tsm_dogliotti665'], 'sentinel3': ['Zsd_lee', 'a_ph443', 'area_bgr', 'bgr_whit', 'chla', 'forel_ule', 'pp_integral', 'tsm_binding754']}, 'geneva': {'collection': ['ST'], 'sentinel2': ['SPM_Nechad2016_665', 'TUR_Nechad2016_665', 'Z490', 'forel_ule', 'p3qaa_zSD', 'tsm_dogliotti665'], 'sentinel3': ['Zsd_lee', 'a_ph443', 'area_bgr', 'bgr_whit', 'chla', 'forel_ule', 'pp_integral', 'tsm_binding754']}, 'sassolo': {'collection': ['ST'], 'sentinel2': ['SPM_Nechad2016_665', 'TUR_Nechad2016_665', 'Z490', 'forel_ule', 'p3qaa_zSD', 'tsm_dogliotti665']}, 'brienz': {'collection': ['ST'], 'sentinel2': ['SPM_Nechad2016_665', 'TUR_Nechad2016_665', 'Z490', 'forel_ule', 'p3qaa_zSD', 'tsm_dogliotti665'], 'sentinel3': ['Zsd_lee', 'a_ph443', 'area_bgr', 'bgr_whit', 'chla', 'forel_ule', 'pp_integral', 'tsm_binding754']}, 'stmoritz': {'collection': ['ST'], 'sentinel2': ['SPM_Nechad2016_665', 'TUR_Nechad2016_665', 'Z490', 'forel_ule', 'p3qaa_zSD', 'tsm_dogliotti665'], 'sentinel3': ['Zsd_lee', 'a_ph443', 'area_bgr', 'bgr_whit', 'chla', 'pp_integral', 'tsm_binding754']}, 'maggiore': {'collection': ['ST'], 'sentinel2': ['SPM_Nechad2016_665', 'TUR_Nechad2016_665', 'Z490', 'forel_ule', 'p3qaa_zSD', 'tsm_dogliotti665'], 'sentinel3': ['Zsd_lee', 'a_ph443', 'area_bgr', 'bgr_whit', 'chla', 'forel_ule', 'pp_integral', 'tsm_binding754']}, 'chavonnes': {'collection': ['ST'], 'sentinel3': ['area_bgr', 'bgr_whit'], 'sentinel2': ['Z490', 'forel_ule', 'tsm_dogliotti665']}, 'huttnersee': {'collection': ['ST'], 'sentinel2': ['SPM_Nechad2016_665', 'TUR_Nechad2016_665', 'Z490', 'forel_ule', 'p3qaa_zSD', 'tsm_dogliotti665'], 'sentinel3': ['area_bgr', 'bgr_whit']}, 'soppensee': {'collection': ['ST'], 'sentinel2': ['SPM_Nechad2016_665', 'TUR_Nechad2016_665', 'Z490', 'forel_ule', 'p3qaa_zSD', 'tsm_dogliotti665'], 'sentinel3': ['Zsd_lee', 'a_ph443', 'area_bgr', 'bgr_whit', 'chla', 'tsm_binding754']}, 'hallwil': {'collection': ['ST'], 'sentinel2': ['SPM_Nechad2016_665', 'TUR_Nechad2016_665', 'Z490', 'forel_ule', 'p3qaa_zSD', 'tsm_dogliotti665'], 'sentinel3': ['Zsd_lee', 'a_ph443', 'area_bgr', 'bgr_whit', 'chla', 'forel_ule', 'pp_integral', 'tsm_binding754']}, 'bretaye': {'collection': ['ST']}, 'moossee': {'collection': ['ST'], 'sentinel2': ['SPM_Nechad2016_665', 'TUR_Nechad2016_665', 'Z490', 'forel_ule', 'p3qaa_zSD', 'tsm_dogliotti665'], 'sentinel3': ['Zsd_lee', 'a_ph443', 'area_bgr', 'bgr_whit', 'chla', 'tsm_binding754']}, 'bret': {'collection': ['ST'], 'sentinel2': ['SPM_Nechad2016_665', 'TUR_Nechad2016_665', 'Z490', 'forel_ule', 'p3qaa_zSD', 'tsm_dogliotti665']}, 'greifensee': {'collection': ['ST'], 'sentinel2': ['SPM_Nechad2016_665', 'TUR_Nechad2016_665', 'Z490', 'forel_ule', 'p3qaa_zSD', 'tsm_dogliotti665'], 'sentinel3': ['Zsd_lee', 'a_ph443', 'area_bgr', 'bgr_whit', 'chla', 'forel_ule', 'pp_integral', 'tsm_binding754']}, 'poschiavo': {'collection': ['ST'], 'sentinel2': ['SPM_Nechad2016_665', 'TUR_Nechad2016_665', 'Z490', 'forel_ule', 'p3qaa_zSD', 'tsm_dogliotti665'], 'sentinel3': ['Zsd_lee', 'a_ph443', 'area_bgr', 'bgr_whit', 'chla', 'forel_ule', 'pp_integral', 'tsm_binding754']}, 'mauensee': {'collection': ['ST'], 'sentinel2': ['SPM_Nechad2016_665', 'TUR_Nechad2016_665', 'Z490', 'forel_ule', 'p3qaa_zSD', 'tsm_dogliotti665'], 'sentinel3': ['Zsd_lee', 'a_ph443', 'area_bgr', 'bgr_whit', 'chla', 'pp_integral', 'tsm_binding754']}, 'bichelsee': {'collection': ['ST'], 'sentinel2': ['SPM_Nechad2016_665', 'TUR_Nechad2016_665', 'Z490', 'forel_ule', 'p3qaa_zSD', 'tsm_dogliotti665']}, 'gerzensee': {'collection': ['ST'], 'sentinel2': ['SPM_Nechad2016_665', 'TUR_Nechad2016_665', 'Z490', 'forel_ule', 'p3qaa_zSD', 'tsm_dogliotti665'], 'sentinel3': ['Zsd_lee', 'a_ph443', 'area_bgr', 'bgr_whit', 'chla', 'pp_integral', 'tsm_binding754']}, 'lungern': {'collection': ['ST'], 'sentinel2': ['SPM_Nechad2016_665', 'TUR_Nechad2016_665', 'Z490', 'forel_ule', 'p3qaa_zSD', 'tsm_dogliotti665'], 'sentinel3': ['Zsd_lee', 'a_ph443', 'area_bgr', 'bgr_whit', 'chla', 'forel_ule', 'pp_integral', 'tsm_binding754']}, 'baldegg': {'collection': ['ST'], 'sentinel2': ['SPM_Nechad2016_665', 'TUR_Nechad2016_665', 'Z490', 'forel_ule', 'p3qaa_zSD', 'tsm_dogliotti665'], 'sentinel3': ['Zsd_lee', 'a_ph443', 'area_bgr', 'bgr_whit', 'chla', 'forel_ule', 'pp_integral', 'tsm_binding754']}, 'brenet': {'collection': ['ST'], 'sentinel2': ['SPM_Nechad2016_665', 'TUR_Nechad2016_665', 'Z490', 'forel_ule', 'p3qaa_zSD', 'tsm_dogliotti665'], 'sentinel3': ['Zsd_lee', 'a_ph443', 'area_bgr', 'bgr_whit', 'chla', 'pp_integral', 'tsm_binding754']}, 'sarnen': {'collection': ['ST'], 'sentinel2': ['SPM_Nechad2016_665', 'TUR_Nechad2016_665', 'Z490', 'forel_ule', 'p3qaa_zSD', 'tsm_dogliotti665'], 'sentinel3': ['Zsd_lee', 'a_ph443', 'area_bgr', 'bgr_whit', 'chla', 'forel_ule', 'pp_integral', 'tsm_binding754']}, 'tome': {'collection': ['ST'], 'sentinel2': ['SPM_Nechad2016_665', 'TUR_Nechad2016_665', 'Z490', 'forel_ule', 'p3qaa_zSD', 'tsm_dogliotti665']}, 'burgaschisee': {'collection': ['ST'], 'sentinel2': ['SPM_Nechad2016_665', 'TUR_Nechad2016_665', 'Z490', 'forel_ule', 'p3qaa_zSD', 'tsm_dogliotti665'], 'sentinel3': ['area_bgr', 'bgr_whit']}, 'husemersee': {'collection': ['ST'], 'sentinel2': ['SPM_Nechad2016_665', 'TUR_Nechad2016_665', 'Z490', 'forel_ule', 'p3qaa_zSD', 'tsm_dogliotti665']}, 'superiore': {'collection': ['ST'], 'sentinel2': ['SPM_Nechad2016_665', 'TUR_Nechad2016_665', 'Z490', 'forel_ule', 'p3qaa_zSD', 'tsm_dogliotti665']}, 'ageri': {'collection': ['ST'], 'sentinel2': ['SPM_Nechad2016_665', 'TUR_Nechad2016_665', 'Z490', 'forel_ule', 'p3qaa_zSD', 'tsm_dogliotti665'], 'sentinel3': ['Zsd_lee', 'a_ph443', 'area_bgr', 'bgr_whit', 'chla', 'forel_ule', 'pp_integral', 'tsm_binding754']}, 'turlersee': {'collection': ['ST'], 'sentinel2': ['SPM_Nechad2016_665', 'TUR_Nechad2016_665', 'Z490', 'forel_ule', 'p3qaa_zSD', 'tsm_dogliotti665'], 'sentinel3': ['Zsd_lee', 'a_ph443', 'area_bgr', 'bgr_whit', 'chla', 'tsm_binding754']}, 'steinsee': {'collection': ['ST'], 'sentinel2': ['SPM_Nechad2016_665', 'TUR_Nechad2016_665', 'Z490', 'forel_ule', 'p3qaa_zSD', 'tsm_dogliotti665'], 'sentinel3': ['Zsd_lee', 'a_ph443', 'area_bgr', 'bgr_whit', 'chla', 'pp_integral', 'tsm_binding754']}, 'klontalersee': {'collection': ['ST'], 'sentinel2': ['SPM_Nechad2016_665', 'TUR_Nechad2016_665', 'Z490', 'forel_ule', 'p3qaa_zSD', 'tsm_dogliotti665'], 'sentinel3': ['Zsd_lee', 'a_ph443', 'area_bgr', 'bgr_whit', 'chla', 'forel_ule', 'pp_integral', 'tsm_binding754']}, 'garda': {'collection': ['ST'], 'sentinel2': ['SPM_Nechad2016_665', 'TUR_Nechad2016_665', 'Z490', 'forel_ule', 'p3qaa_zSD', 'tsm_dogliotti665'], 'sentinel3': ['Zsd_lee', 'a_ph443', 'area_bgr', 'bgr_whit', 'chla', 'forel_ule', 'pp_integral', 'tsm_binding754']}, 'uebeschisee': {'collection': ['ST'], 'sentinel2': ['SPM_Nechad2016_665', 'TUR_Nechad2016_665', 'Z490', 'forel_ule', 'p3qaa_zSD', 'tsm_dogliotti665'], 'sentinel3': ['area_bgr', 'bgr_whit']}, 'silvaplana': {'collection': ['ST'], 'sentinel2': ['SPM_Nechad2016_665', 'TUR_Nechad2016_665', 'Z490', 'forel_ule', 'p3qaa_zSD', 'tsm_dogliotti665'], 'sentinel3': ['Zsd_lee', 'a_ph443', 'area_bgr', 'bgr_whit', 'chla', 'forel_ule', 'pp_integral', 'tsm_binding754']}, 'champfer': {'collection': ['ST'], 'sentinel2': ['SPM_Nechad2016_665', 'TUR_Nechad2016_665', 'Z490', 'forel_ule', 'p3qaa_zSD', 'tsm_dogliotti665'], 'sentinel3': ['Zsd_lee', 'a_ph443', 'area_bgr', 'bgr_whit', 'chla', 'pp_integral', 'tsm_binding754']}, 'dittligsee': {'collection': ['ST'], 'sentinel2': ['SPM_Nechad2016_665', 'TUR_Nechad2016_665', 'Z490', 'forel_ule', 'p3qaa_zSD', 'tsm_dogliotti665']}, 'barone': {'collection': ['ST'], 'sentinel2': ['SPM_Nechad2016_665', 'TUR_Nechad2016_665', 'p3qaa_zSD']}, 'gruyere': {'collection': ['ST'], 'sentinel2': ['SPM_Nechad2016_665', 'TUR_Nechad2016_665', 'Z490', 'forel_ule', 'p3qaa_zSD', 'tsm_dogliotti665'], 'sentinel3': ['Zsd_lee', 'a_ph443', 'area_bgr', 'bgr_whit', 'chla', 'forel_ule', 'pp_integral', 'tsm_binding754']}, 'lucerne': {'collection': ['ST'], 'sentinel2': ['SPM_Nechad2016_665', 'TUR_Nechad2016_665', 'Z490', 'forel_ule', 'p3qaa_zSD', 'tsm_dogliotti665'], 'sentinel3': ['Zsd_lee', 'a_ph443', 'area_bgr', 'bgr_whit', 'chla', 'forel_ule', 'pp_integral', 'tsm_binding754']}, 'alpnachersee': {'collection': ['ST'], 'sentinel2': ['SPM_Nechad2016_665', 'TUR_Nechad2016_665', 'Z490', 'forel_ule', 'p3qaa_zSD', 'tsm_dogliotti665'], 'sentinel3': ['Zsd_lee', 'a_ph443', 'area_bgr', 'bgr_whit', 'chla', 'forel_ule', 'pp_integral', 'tsm_binding754']}, 'nussbommersee': {'collection': ['ST'], 'sentinel2': ['SPM_Nechad2016_665', 'TUR_Nechad2016_665', 'Z490', 'forel_ule', 'p3qaa_zSD', 'tsm_dogliotti665'], 'sentinel3': ['area_bgr', 'bgr_whit']}, 'zurich': {'collection': ['ST'], 'sentinel2': ['SPM_Nechad2016_665', 'TUR_Nechad2016_665', 'Z490', 'forel_ule', 'p3qaa_zSD', 'tsm_dogliotti665'], 'sentinel3': ['Zsd_lee', 'a_ph443', 'area_bgr', 'bgr_whit', 'chla', 'forel_ule', 'pp_integral', 'tsm_binding754']}, 'untererchatzensee': {'collection': ['ST'], 'sentinel2': ['SPM_Nechad2016_665', 'TUR_Nechad2016_665', 'Z490', 'forel_ule', 'p3qaa_zSD', 'tsm_dogliotti665'], 'sentinel3': ['area_bgr', 'bgr_whit']}, 'constance': {'collection': ['ST'], 'sentinel2': ['SPM_Nechad2016_665', 'TUR_Nechad2016_665', 'Z490', 'forel_ule', 'p3qaa_zSD', 'tsm_dogliotti665'], 'sentinel3': ['Zsd_lee', 'a_ph443', 'area_bgr', 'bgr_whit', 'chla', 'forel_ule', 'pp_integral', 'tsm_binding754']}, 'inkwilersee': {'collection': ['ST'], 'sentinel2': ['SPM_Nechad2016_665', 'TUR_Nechad2016_665', 'Z490', 'forel_ule', 'p3qaa_zSD', 'tsm_dogliotti665']}, 'neuchatel': {'collection': ['ST'], 'sentinel2': ['SPM_Nechad2016_665', 'TUR_Nechad2016_665', 'Z490', 'forel_ule', 'p3qaa_zSD', 'tsm_dogliotti665'], 'sentinel3': ['Zsd_lee', 'a_ph443', 'area_bgr', 'bgr_whit', 'chla', 'forel_ule', 'pp_integral', 'tsm_binding754']}, 'sempach': {'collection': ['ST'], 'sentinel2': ['SPM_Nechad2016_665', 'TUR_Nechad2016_665', 'Z490', 'forel_ule', 'p3qaa_zSD', 'tsm_dogliotti665'], 'sentinel3': ['Zsd_lee', 'a_ph443', 'area_bgr', 'bgr_whit', 'chla', 'forel_ule', 'pp_integral', 'tsm_binding754']}, 'huttwilersee': {'collection': ['ST'], 'sentinel2': ['SPM_Nechad2016_665', 'TUR_Nechad2016_665', 'Z490', 'forel_ule', 'p3qaa_zSD', 'tsm_dogliotti665'], 'sentinel3': ['Zsd_lee', 'a_ph443', 'area_bgr', 'bgr_whit', 'chla', 'tsm_binding754']}, 'oeschinensee': {'collection': ['ST'], 'sentinel2': ['SPM_Nechad2016_665', 'TUR_Nechad2016_665', 'Z490', 'forel_ule', 'p3qaa_zSD', 'tsm_dogliotti665'], 'sentinel3': ['Zsd_lee', 'a_ph443', 'area_bgr', 'bgr_whit', 'chla', 'forel_ule', 'pp_integral', 'tsm_binding754']}, 'hasenseeost': {'collection': ['ST'], 'sentinel2': ['SPM_Nechad2016_665', 'TUR_Nechad2016_665', 'Z490', 'forel_ule', 'p3qaa_zSD', 'tsm_dogliotti665']}, 'caldonazzo': {'collection': ['ST'], 'sentinel2': ['SPM_Nechad2016_665', 'TUR_Nechad2016_665', 'Z490', 'forel_ule', 'p3qaa_zSD', 'tsm_dogliotti665'], 'sentinel3': ['Zsd_lee', 'a_ph443', 'area_bgr', 'bgr_whit', 'chla', 'forel_ule', 'pp_integral', 'tsm_binding754']}, 'rotsee': {'collection': ['ST'], 'sentinel2': ['SPM_Nechad2016_665', 'TUR_Nechad2016_665', 'Z490', 'forel_ule', 'p3qaa_zSD', 'tsm_dogliotti665'], 'sentinel3': ['area_bgr', 'bgr_whit']}, 'lugano': {'collection': ['ST'], 'sentinel2': ['SPM_Nechad2016_665', 'TUR_Nechad2016_665', 'Z490', 'forel_ule', 'p3qaa_zSD', 'tsm_dogliotti665'], 'sentinel3': ['Zsd_lee', 'a_ph443', 'area_bgr', 'bgr_whit', 'chla', 'forel_ule', 'pp_integral', 'tsm_binding754']}, 'joux': {'collection': ['ST'], 'sentinel2': ['SPM_Nechad2016_665', 'TUR_Nechad2016_665', 'Z490', 'forel_ule', 'p3qaa_zSD', 'tsm_dogliotti665'], 'sentinel3': ['Zsd_lee', 'a_ph443', 'area_bgr', 'bgr_whit', 'chla', 'forel_ule', 'pp_integral', 'tsm_binding754']}, 'biel': {'collection': ['ST'], 'sentinel2': ['SPM_Nechad2016_665', 'TUR_Nechad2016_665', 'Z490', 'forel_ule', 'p3qaa_zSD', 'tsm_dogliotti665'], 'sentinel3': ['Zsd_lee', 'a_ph443', 'area_bgr', 'bgr_whit', 'chla', 'forel_ule', 'pp_integral', 'tsm_binding754']}, 'lioson': {'collection': ['ST'], 'sentinel2': ['Z490', 'forel_ule', 'tsm_dogliotti665']}, 'sils': {'collection': ['ST'], 'sentinel2': ['SPM_Nechad2016_665', 'TUR_Nechad2016_665', 'Z490', 'forel_ule', 'p3qaa_zSD', 'tsm_dogliotti665'], 'sentinel3': ['Zsd_lee', 'a_ph443', 'area_bgr', 'bgr_whit', 'chla', 'forel_ule', 'pp_integral', 'tsm_binding754']}, 'murten': {'collection': ['ST'], 'sentinel2': ['SPM_Nechad2016_665', 'TUR_Nechad2016_665', 'Z490', 'forel_ule', 'p3qaa_zSD', 'tsm_dogliotti665'], 'sentinel3': ['Zsd_lee', 'a_ph443', 'area_bgr', 'bgr_whit', 'chla', 'forel_ule', 'pp_integral', 'tsm_binding754']}, 'amsoldingersee': {'collection': ['ST'], 'sentinel2': ['SPM_Nechad2016_665', 'TUR_Nechad2016_665', 'Z490', 'forel_ule', 'p3qaa_zSD', 'tsm_dogliotti665'], 'sentinel3': ['area_bgr', 'bgr_whit']}, 'hasenseewest': {'collection': ['ST'], 'sentinel2': ['SPM_Nechad2016_665', 'TUR_Nechad2016_665', 'Z490', 'forel_ule', 'p3qaa_zSD', 'tsm_dogliotti665']}, 'cadagno': {'collection': ['ST'], 'sentinel2': ['SPM_Nechad2016_665', 'TUR_Nechad2016_665', 'Z490', 'forel_ule', 'p3qaa_zSD', 'tsm_dogliotti665'], 'sentinel3': ['Zsd_lee', 'a_ph443', 'area_bgr', 'bgr_whit', 'chla', 'pp_integral', 'tsm_binding754']}, 'thun': {'collection': ['ST'], 'sentinel2': ['SPM_Nechad2016_665', 'TUR_Nechad2016_665', 'Z490', 'forel_ule', 'p3qaa_zSD', 'tsm_dogliotti665'], 'sentinel3': ['Zsd_lee', 'a_ph443', 'area_bgr', 'bgr_whit', 'chla', 'forel_ule', 'pp_integral', 'tsm_binding754']}, 'zug': {'collection': ['ST'], 'sentinel2': ['SPM_Nechad2016_665', 'TUR_Nechad2016_665', 'Z490', 'forel_ule', 'p3qaa_zSD', 'tsm_dogliotti665'], 'sentinel3': ['Zsd_lee', 'a_ph443', 'area_bgr', 'bgr_whit', 'chla', 'forel_ule', 'pp_integral', 'tsm_binding754']}, 'sihlsee': {'collection': ['ST'], 'sentinel2': ['SPM_Nechad2016_665', 'TUR_Nechad2016_665', 'Z490', 'forel_ule', 'p3qaa_zSD', 'tsm_dogliotti665'], 'sentinel3': ['Zsd_lee', 'a_ph443', 'area_bgr', 'bgr_whit', 'chla', 'forel_ule', 'pp_integral', 'tsm_binding754']}, 'geistsee': {'sentinel2': ['SPM_Nechad2016_665', 'TUR_Nechad2016_665', 'p3qaa_zSD']}, 'mettmenhaslisee': {'sentinel2': ['SPM_Nechad2016_665', 'TUR_Nechad2016_665', 'p3qaa_zSD']}, 'hugiweiher': {'sentinel2': ['SPM_Nechad2016_665', 'TUR_Nechad2016_665', 'p3qaa_zSD']}, 'chlimoossee': {'sentinel2': ['SPM_Nechad2016_665', 'TUR_Nechad2016_665', 'p3qaa_zSD']}, 'lenkerseeli': {'sentinel2': ['SPM_Nechad2016_665', 'TUR_Nechad2016_665', 'p3qaa_zSD']}, 'annecy': {'sentinel3': ['Zsd_lee', 'a_ph443', 'area_bgr', 'bgr_whit', 'chla', 'forel_ule', 'pp_integral', 'tsm_binding754'], 'collection': ['ST'], 'sentinel2': ['SPM_Nechad2016_665', 'TUR_Nechad2016_665', 'Z490', 'forel_ule', 'p3qaa_zSD', 'tsm_dogliotti665']}, 'bourget': {'sentinel3': ['Zsd_lee', 'a_ph443', 'area_bgr', 'bgr_whit', 'chla', 'forel_ule', 'pp_integral', 'tsm_binding754'], 'collection': ['ST'], 'sentinel2': ['SPM_Nechad2016_665', 'TUR_Nechad2016_665', 'Z490', 'forel_ule', 'p3qaa_zSD', 'tsm_dogliotti665']}, 'mondsee': {'sentinel3': ['Zsd_lee', 'a_ph443', 'area_bgr', 'bgr_whit', 'chla', 'forel_ule', 'pp_integral', 'tsm_binding754'], 'collection': ['ST'], 'sentinel2': ['Z490', 'forel_ule', 'tsm_dogliotti665']}, 'bled': {'sentinel3': ['Zsd_lee', 'a_ph443', 'area_bgr', 'bgr_whit', 'chla', 'forel_ule', 'tsm_binding754'], 'collection': ['ST'], 'sentinel2': ['Z490', 'forel_ule', 'tsm_dogliotti665']}, 'como': {'collection': ['ST'], 'sentinel3': ['Zsd_lee', 'a_ph443', 'area_bgr', 'bgr_whit', 'chla', 'forel_ule', 'pp_integral', 'tsm_binding754'], 'sentinel2': ['SPM_Nechad2016_665', 'TUR_Nechad2016_665', 'Z490', 'forel_ule', 'p3qaa_zSD', 'tsm_dogliotti665']}, 'iseo': {'collection': ['ST'], 'sentinel3': ['Zsd_lee', 'a_ph443', 'area_bgr', 'bgr_whit', 'chla', 'forel_ule', 'pp_integral', 'tsm_binding754'], 'sentinel2': ['SPM_Nechad2016_665', 'TUR_Nechad2016_665', 'Z490', 'forel_ule', 'p3qaa_zSD', 'tsm_dogliotti665']}}\n"
     ]
    }
   ],
   "source": [
    "# print the structure of the data\n",
    "print(data)"
   ]
  }
 ],
 "metadata": {
  "kernelspec": {
   "display_name": "Python 3",
   "language": "python",
   "name": "python3"
  },
  "language_info": {
   "codemirror_mode": {
    "name": "ipython",
    "version": 3
   },
   "file_extension": ".py",
   "mimetype": "text/x-python",
   "name": "python",
   "nbconvert_exporter": "python",
   "pygments_lexer": "ipython3",
   "version": "3.13.2"
  }
 },
 "nbformat": 4,
 "nbformat_minor": 2
}
