{
 "cells": [
  {
   "cell_type": "markdown",
   "metadata": {},
   "source": [
    "# Workflow and ideas for projecr analyses\n",
    "\n",
    "## Description of the files: \n",
    "1. raw_data_reactor.csv: raw data output from the photobioreactor\n",
    "2. sensors.pdf: data sheet of the algae reactor, where parameters are explained\n",
    "3. carbon_content.xlsx: raw data and 'cleansed' data from the CHN-Analyzer\n",
    "4. additional_data_reactor.xlsx: prepared data from the reactor (meta data and some additional data)\n",
    "5. douchas2006.pdf: some additional information about the algae reactor from a publication (read about carbon uptake efficiency here)\n",
    "\n",
    "## Objective and calcuations:\n",
    "\n",
    "The objective is to create a carbon mass balance in the algae reactor: this means that we want\n",
    "to know, at a given time during the experiment, the carbon mass distribution within our system.\n",
    "This means, that we want to calculate:\n",
    "\n",
    "- how much carbon was added to the reactor (mCO2, sum of all carbon that was added throughout the experiment up until the point of observation)\n",
    "\n",
    "- how much carbon is contained in the water (mCO2(aq), at the time of observation, [just the carbon that is still present as CO2 in  issolved form in the water at the point of observation]),\n",
    "\n",
    "- potentially how much carbon was lost from the system boundary (mCO2(degas), degassed CO2 into the air).\n",
    "\n",
    "- how much carbon was incorporated in the algae (mCalgae) \n",
    "\n",
    "## Mass balance formular\n",
    "\n",
    "mCalgae(t) = mCO2 + mCO2(aq) − mCO2(degas)\n",
    "\n",
    "! it's a continous porcess, so mass balance is also for a continouse state. \n",
    "\n",
    "# Assignment: \n",
    "\n",
    "1. generate a ‘stepwise’ mass balance, which allows to assess the carbon distribution in a given interval, decide which data you want to down sample or impute accordingly\n",
    "\n",
    "2. think about potential error sources and the sensitivity of each parameter in your model\n",
    "\n",
    "3. how can the result be used and how is it important for algae production?"
   ]
  },
  {
   "cell_type": "code",
   "execution_count": 4,
   "metadata": {},
   "outputs": [],
   "source": [
    "# librarys\n",
    "import zipfile\n",
    "import pandas as py\n",
    "import numpy as np\n"
   ]
  },
  {
   "cell_type": "code",
   "execution_count": 5,
   "metadata": {},
   "outputs": [
    {
     "name": "stderr",
     "output_type": "stream",
     "text": [
      "<>:4: SyntaxWarning: invalid escape sequence '\\D'\n",
      "<>:4: SyntaxWarning: invalid escape sequence '\\D'\n",
      "C:\\Users\\noiri\\AppData\\Local\\Temp\\ipykernel_20848\\575174114.py:4: SyntaxWarning: invalid escape sequence '\\D'\n",
      "  with zipfile.ZipFile('C:/repos/eee/20250306\\Data for the assignment-20250307.zip', 'r') as zip_ref:\n"
     ]
    }
   ],
   "source": [
    "# unzip folder\n",
    "\n",
    "import zipfile\n",
    "with zipfile.ZipFile('C:/repos/eee/20250306\\Data for the assignment-20250307.zip', 'r') as zip_ref:\n",
    "    zip_ref.extractall('C:/repos/eee/20250306')"
   ]
  },
  {
   "cell_type": "code",
   "execution_count": null,
   "metadata": {},
   "outputs": [],
   "source": [
    "# get the data from csv\n",
    "\n",
    "carbon_content = py"
   ]
  }
 ],
 "metadata": {
  "kernelspec": {
   "display_name": "Python 3",
   "language": "python",
   "name": "python3"
  },
  "language_info": {
   "codemirror_mode": {
    "name": "ipython",
    "version": 3
   },
   "file_extension": ".py",
   "mimetype": "text/x-python",
   "name": "python",
   "nbconvert_exporter": "python",
   "pygments_lexer": "ipython3",
   "version": "3.13.2"
  }
 },
 "nbformat": 4,
 "nbformat_minor": 2
}
